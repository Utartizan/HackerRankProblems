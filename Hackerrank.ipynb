{
 "cells": [
  {
   "cell_type": "code",
   "id": "initial_id",
   "metadata": {
    "collapsed": true,
    "ExecuteTime": {
     "end_time": "2024-12-22T20:23:44.663444Z",
     "start_time": "2024-12-22T20:20:26.793137Z"
    }
   },
   "source": [
    "#Problem 1\n",
    "def print_full_name(first, last):\n",
    "    print(f\"Hello {first_name} {last_name}! You just delved into python.\")\n",
    "\n",
    "\n",
    "if __name__ == '__main__':\n",
    "    first_name = input()\n",
    "    last_name = input()\n",
    "    print_full_name(first_name, last_name)"
   ],
   "outputs": [
    {
     "name": "stdout",
     "output_type": "stream",
     "text": [
      "Hello Ubayd Knight! You just delved into python.\n"
     ]
    }
   ],
   "execution_count": 1
  },
  {
   "metadata": {
    "ExecuteTime": {
     "end_time": "2024-12-22T20:46:32.837990Z",
     "start_time": "2024-12-22T20:46:27.911357Z"
    }
   },
   "cell_type": "code",
   "source": [
    "#Problem 2\n",
    "def mutate_string(string, position, character):\n",
    "    return string[:position] + character + string[position+1:]\n",
    "\n",
    "if __name__ == '__main__':\n",
    "    s = input()\n",
    "    i, c = input().split()\n",
    "    s_new = mutate_string(s, int(i), c)\n",
    "    print(s_new)"
   ],
   "id": "4b486b9ee0b753d6",
   "outputs": [
    {
     "name": "stdout",
     "output_type": "stream",
     "text": [
      "abrackdabra\n"
     ]
    }
   ],
   "execution_count": 4
  },
  {
   "metadata": {
    "ExecuteTime": {
     "end_time": "2024-12-22T21:03:17.160523Z",
     "start_time": "2024-12-22T21:03:04.882371Z"
    }
   },
   "cell_type": "code",
   "source": [
    "#Problem 3\n",
    "def count_substring(string, sub_string):\n",
    "    count = 0\n",
    "\n",
    "    for i in range(len(string) - len(sub_string) + 1):\n",
    "        if string[i:i+len(sub_string)] == sub_string:\n",
    "            count += 1\n",
    "    return count\n",
    "\n",
    "if __name__ == '__main__':\n",
    "    string = input().strip()\n",
    "    sub_string = input().strip()\n",
    "\n",
    "    count = count_substring(string, sub_string)\n",
    "    print(count)"
   ],
   "id": "d38d95bcd7ce6b03",
   "outputs": [
    {
     "name": "stdout",
     "output_type": "stream",
     "text": [
      "2\n"
     ]
    }
   ],
   "execution_count": 5
  },
  {
   "metadata": {
    "ExecuteTime": {
     "end_time": "2024-12-22T21:08:56.083817Z",
     "start_time": "2024-12-22T21:08:53.796625Z"
    }
   },
   "cell_type": "code",
   "source": [
    "#Problem 4\n",
    "def checkingStringProperties(s):\n",
    "    print(any(c.isalnum() for c in s))\n",
    "\n",
    "    print(any(c.isalpha() for c in s))\n",
    "\n",
    "    print(any(c.isdigit() for c in s))\n",
    "\n",
    "    print(any(c.islower() for c in s))\n",
    "\n",
    "    print(any(c.isupper() for c in s))\n",
    "\n",
    "checkingStringProperties(s)\n",
    "\n",
    "if __name__ == '__main__':\n",
    "    s = input()"
   ],
   "id": "4cedd19b3fb65b2c",
   "outputs": [
    {
     "name": "stdout",
     "output_type": "stream",
     "text": [
      "True\n",
      "True\n",
      "True\n",
      "True\n",
      "True\n"
     ]
    }
   ],
   "execution_count": 7
  },
  {
   "metadata": {
    "ExecuteTime": {
     "end_time": "2024-12-22T21:24:27.354303Z",
     "start_time": "2024-12-22T21:24:19.617817Z"
    }
   },
   "cell_type": "code",
   "source": [
    "#Problem 5\n",
    "def swap_case(s):\n",
    "    return s.swapcase()\n",
    "\n",
    "if __name__ == '__main__':\n",
    "    s = input()\n",
    "    result = swap_case(s)\n",
    "    print(result)"
   ],
   "id": "f5cd3de8095749fe",
   "outputs": [
    {
     "name": "stdout",
     "output_type": "stream",
     "text": [
      "uTARTIZAN\n"
     ]
    }
   ],
   "execution_count": 8
  },
  {
   "metadata": {
    "ExecuteTime": {
     "end_time": "2024-12-22T21:27:01.074741Z",
     "start_time": "2024-12-22T21:26:54.279319Z"
    }
   },
   "cell_type": "code",
   "source": [
    "#Problem 6\n",
    "def split_and_join(line):\n",
    "\n",
    "    schmucks = line.split(\" \")\n",
    "\n",
    "    return \"-\".join(schmucks)\n",
    "\n",
    "if __name__ == '__main__':\n",
    "    line = input()\n",
    "    result = split_and_join(line)\n",
    "    print(result)"
   ],
   "id": "18862e196bae74e",
   "outputs": [
    {
     "name": "stdout",
     "output_type": "stream",
     "text": [
      "schmucks-are-schucks\n"
     ]
    }
   ],
   "execution_count": 9
  },
  {
   "metadata": {
    "ExecuteTime": {
     "end_time": "2024-12-22T21:44:56.936311Z",
     "start_time": "2024-12-22T21:44:49.233726Z"
    }
   },
   "cell_type": "code",
   "source": [
    "#Problem 7\n",
    "import textwrap\n",
    "\n",
    "def wrap(string, max_width):\n",
    "    return textwrap.fill(string, max_width)\n",
    "\n",
    "if __name__ == '__main__':\n",
    "    string, max_width = input(), int(input())\n",
    "    result = wrap(string, max_width)\n",
    "    print(result)"
   ],
   "id": "3152e07662bee26",
   "outputs": [
    {
     "name": "stdout",
     "output_type": "stream",
     "text": [
      "UT\n",
      "AR\n",
      "TI\n",
      "ZA\n",
      "N\n"
     ]
    }
   ],
   "execution_count": 10
  },
  {
   "metadata": {
    "ExecuteTime": {
     "end_time": "2024-12-22T22:32:36.083303Z",
     "start_time": "2024-12-22T22:32:28.333380Z"
    }
   },
   "cell_type": "code",
   "source": [
    "#Problem 7\n",
    "def print_door_mat(n, m):\n",
    "    for i in range(1, n, 2):\n",
    "        print(('-' * ((m - (3 * i)) // 2)) + ('.|.' * i) + ('-' * ((m - (3 * i)) // 2)))\n",
    "\n",
    "    print(('Utartizan').center(m, '-'))\n",
    "\n",
    "    for i in range(n - 2, 0, -2):\n",
    "        print(('-' * ((m - (3 * i)) // 2)) + ('.|.' * i) + ('-' * ((m - (3 * i)) // 2)))\n",
    "\n",
    "\n",
    "dimensions = input().split()\n",
    "n = int(dimensions[0])  # rows\n",
    "m = int(dimensions[1])  # columns\n",
    "\n",
    "print_door_mat(n, m)\n"
   ],
   "id": "c8a8f8410caff404",
   "outputs": [
    {
     "name": "stdout",
     "output_type": "stream",
     "text": [
      "------------.|.------------\n",
      "---------.|..|..|.---------\n",
      "------.|..|..|..|..|.------\n",
      "---.|..|..|..|..|..|..|.---\n",
      "----------WELCOME----------\n",
      "---.|..|..|..|..|..|..|.---\n",
      "------.|..|..|..|..|.------\n",
      "---------.|..|..|.---------\n",
      "------------.|.------------\n"
     ]
    }
   ],
   "execution_count": 11
  },
  {
   "metadata": {
    "ExecuteTime": {
     "end_time": "2024-12-22T23:05:36.169391Z",
     "start_time": "2024-12-22T23:05:32.122771Z"
    }
   },
   "cell_type": "code",
   "source": [
    "#Problem 8\n",
    "def print_formatted(number):\n",
    "    width = len(bin(number)[2:])\n",
    "\n",
    "    for i in range(1, number + 1):\n",
    "        decimal = str(i).rjust(width)\n",
    "        octal = oct(i)[2:].rjust(width)\n",
    "        hexadecimal = hex(i)[2:].upper().rjust(width)\n",
    "        binary = bin(i)[2:].rjust(width)\n",
    "\n",
    "        print(f\"{decimal} {octal} {hexadecimal} {binary}\")\n",
    "\n",
    "if __name__ == '__main__':\n",
    "    n = int(input())\n",
    "    print_formatted(n)\n"
   ],
   "id": "31fbb2ec2409211f",
   "outputs": [
    {
     "name": "stdout",
     "output_type": "stream",
     "text": [
      "    1     1     1     1\n",
      "    2     2     2    10\n",
      "    3     3     3    11\n",
      "    4     4     4   100\n",
      "    5     5     5   101\n",
      "    6     6     6   110\n",
      "    7     7     7   111\n",
      "    8    10     8  1000\n",
      "    9    11     9  1001\n",
      "   10    12     A  1010\n",
      "   11    13     B  1011\n",
      "   12    14     C  1100\n",
      "   13    15     D  1101\n",
      "   14    16     E  1110\n",
      "   15    17     F  1111\n",
      "   16    20    10 10000\n",
      "   17    21    11 10001\n"
     ]
    }
   ],
   "execution_count": 12
  },
  {
   "metadata": {
    "ExecuteTime": {
     "end_time": "2024-12-22T23:07:01.346622Z",
     "start_time": "2024-12-22T23:06:55.330496Z"
    }
   },
   "cell_type": "code",
   "source": [
    "#Problem 9\n",
    "def print_rangoli(size):\n",
    "    import string\n",
    "    alphabet = string.ascii_lowercase\n",
    "\n",
    "    lines = []\n",
    "\n",
    "    for i in range(size):\n",
    "        left_part = alphabet[size - 1:size - i - 1:-1]\n",
    "        middle_part = alphabet[size - i - 1]\n",
    "        right_part = alphabet[size - i:size]\n",
    "        row = \"-\".join(left_part + middle_part + right_part)\n",
    "\n",
    "        centered_row = row.center(4 * size - 3, \"-\")\n",
    "        lines.append(centered_row)\n",
    "\n",
    "    rangoli = lines + lines[-2::-1]\n",
    "    print(\"\\n\".join(rangoli))\n",
    "\n",
    "if __name__ == '__main__':\n",
    "    n = int(input())\n",
    "    print_rangoli(n)"
   ],
   "id": "acbadb48b4ac6360",
   "outputs": [
    {
     "name": "stdout",
     "output_type": "stream",
     "text": [
      "----------f----------\n",
      "--------f-e-f--------\n",
      "------f-e-d-e-f------\n",
      "----f-e-d-c-d-e-f----\n",
      "--f-e-d-c-b-c-d-e-f--\n",
      "f-e-d-c-b-a-b-c-d-e-f\n",
      "--f-e-d-c-b-c-d-e-f--\n",
      "----f-e-d-c-d-e-f----\n",
      "------f-e-d-e-f------\n",
      "--------f-e-f--------\n",
      "----------f----------\n"
     ]
    }
   ],
   "execution_count": 13
  },
  {
   "metadata": {
    "ExecuteTime": {
     "end_time": "2024-12-23T00:36:21.042037Z",
     "start_time": "2024-12-23T00:36:10.734088Z"
    }
   },
   "cell_type": "code",
   "source": [
    "#Problem 10\n",
    "if __name__ == '__main__':\n",
    "    x = int(input())\n",
    "    y = int(input())\n",
    "    z = int(input())\n",
    "    n = int(input())\n",
    "\n",
    "\n",
    "def schmuck(x, y, z, n):\n",
    "    result = [[i, j, k]\n",
    "              for i in range(x + 1)\n",
    "              for j in range(y + 1)\n",
    "              for k in range(z + 1)\n",
    "              if i + j + k != n]\n",
    "    return result\n",
    "\n",
    "print(schmuck(x, y, z, n))\n",
    "\n"
   ],
   "id": "c77cc4a5959a70ab",
   "outputs": [
    {
     "name": "stdout",
     "output_type": "stream",
     "text": [
      "[[0, 0, 0], [0, 0, 1], [0, 1, 0], [0, 1, 2], [0, 2, 1], [0, 2, 2], [1, 0, 0], [1, 0, 2], [1, 1, 1], [1, 1, 2], [1, 2, 0], [1, 2, 1], [1, 2, 2], [2, 0, 1], [2, 0, 2], [2, 1, 0], [2, 1, 1], [2, 1, 2], [2, 2, 0], [2, 2, 1], [2, 2, 2]]\n"
     ]
    }
   ],
   "execution_count": 18
  }
 ],
 "metadata": {
  "kernelspec": {
   "display_name": "Python 3",
   "language": "python",
   "name": "python3"
  },
  "language_info": {
   "codemirror_mode": {
    "name": "ipython",
    "version": 2
   },
   "file_extension": ".py",
   "mimetype": "text/x-python",
   "name": "python",
   "nbconvert_exporter": "python",
   "pygments_lexer": "ipython2",
   "version": "2.7.6"
  }
 },
 "nbformat": 4,
 "nbformat_minor": 5
}
